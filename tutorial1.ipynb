{
 "cells": [
  {
   "cell_type": "code",
   "execution_count": 1,
   "metadata": {},
   "outputs": [],
   "source": [
    "# tutorial 1, Question 1\n",
    "import numpy as np\n",
    "arr1= np.linspace(1, 100, 100)  # part(a)-range of numbers from 1 to 100 with spacing 1\n",
    "\n",
    "#creating an array having even numbers from arr1\n",
    "arr2 = [i for i in arr1 if i%2==0]\n",
    "arr3 = np.array(list(set(arr1) - set(arr2)))  #array having odd numbers #array having odd numbers\n",
    "\n",
    "arr4= [i for i in arr1 if (i not in range(10,20) and i not in range(45,57))] #array for part c\n",
    "arr5= np.array(list(set(arr1)- set(arr4))) #array for part d"
   ]
  },
  {
   "cell_type": "code",
   "execution_count": 2,
   "metadata": {},
   "outputs": [
    {
     "name": "stdout",
     "output_type": "stream",
     "text": [
      "(50.5, 28.86607004772212)\n",
      "(51.0, 28.861739379323623)\n",
      "(50.0, 28.861739379323623)\n",
      "(55.11538461538461, 29.629758416605934)\n",
      "(34.13636363636363, 18.209127218227312)\n"
     ]
    }
   ],
   "source": [
    "def mean_and_std(a):\n",
    "    mean= np.mean(a)\n",
    "    std= np.std(a)\n",
    "#     print('mean of % is %d', a, mean )\n",
    "#     print('STD of % is %', a, std)\n",
    "    return(mean, std)\n",
    "\n",
    "\n",
    "print(mean_and_std(arr1))\n",
    "print(mean_and_std(arr2))\n",
    "print(mean_and_std(arr3))\n",
    "print(mean_and_std(arr4))\n",
    "print(mean_and_std(arr5))"
   ]
  },
  {
   "cell_type": "code",
   "execution_count": 3,
   "metadata": {},
   "outputs": [
    {
     "name": "stdout",
     "output_type": "stream",
     "text": [
      "2.168138413655254\n"
     ]
    }
   ],
   "source": [
    "#part e\n",
    "x=np.linspace(0,3,100)\n",
    "A=0.807\n",
    "B=2\n",
    "y= A*np.exp(x) - B*x\n",
    "mean_y= np.mean(y)\n",
    "print(mean_y)\n",
    "\n",
    "#factorial\n",
    "def factorial(a):\n",
    "    f=1\n",
    "    for i in range(2, a):\n",
    "        f = a*f\n",
    "    return(f)\n",
    "\n",
    "\n",
    "#part f\n",
    "k = range(5)\n",
    "exp_fn = 0\n",
    "for i in range(len(k)):\n",
    "    exp_fn = exp_fn + (x**k[i]/factorial(k[i]))\n"
   ]
  },
  {
   "cell_type": "markdown",
   "metadata": {},
   "source": [
    "## Question2 - Interpolation"
   ]
  },
  {
   "cell_type": "code",
   "execution_count": 4,
   "metadata": {},
   "outputs": [
    {
     "name": "stdout",
     "output_type": "stream",
     "text": [
      "[  1.43471218  -1.58806636  -5.93382823  17.94657707 -27.28040663\n",
      "  26.37820045 -11.51613267]\n"
     ]
    },
    {
     "data": {
      "text/plain": [
       "7"
      ]
     },
     "execution_count": 4,
     "metadata": {},
     "output_type": "execute_result"
    }
   ],
   "source": [
    "import numpy as np\n",
    "x= np.linspace(1, 20, 7)\n",
    "\n",
    "def fx(x):\n",
    "    fx= 2*x*np.sin(0.8*x)\n",
    "    return fx\n",
    "\n",
    "fx = fx(x)\n",
    "x1= np.linspace(1, 25, 100)\n",
    "fx\n",
    "print(fx)\n",
    "len(x)"
   ]
  },
  {
   "cell_type": "code",
   "execution_count": 5,
   "metadata": {},
   "outputs": [
    {
     "data": {
      "text/plain": [
       "[<matplotlib.lines.Line2D at 0x7fb0bbe4ac18>]"
      ]
     },
     "execution_count": 5,
     "metadata": {},
     "output_type": "execute_result"
    },
    {
     "data": {
      "image/png": "[encoded data removed]",
      "text/plain": [
       "<Figure size 432x288 with 1 Axes>"
      ]
     },
     "metadata": {
      "needs_background": "light"
     },
     "output_type": "display_data"
    }
   ],
   "source": [
    "###### linear interp ######\n",
    "\n",
    "import matplotlib.pyplot as plt\n",
    "%matplotlib inline\n",
    "\n",
    "def linear_interp(x, fx, x1):\n",
    "    fx1 = np.empty(len(x1))\n",
    "    for j in range(len(x)-1):\n",
    "        for i in range(len(x1)):\n",
    "            if x1[i]>=x[j] and x1[i]<=x[j+1]:\n",
    "                fx1[i] = ((fx[j+1] - fx[j])/(x[j+1]-x[j]))*(x1[i] - x[j]) + fx[j]\n",
    "\n",
    "            elif x1[i] > max(x):\n",
    "                fx1[i] = ((fx[len(x)-1] - fx[len(x)-2])/(x[len(x)-1]-x[len(x)-2]))*(x1[i] - x[len(x)-1]) + fx[len(x)-1]\n",
    "                \n",
    "    return fx1\n",
    "    \n",
    "fx1 = linear_interp(x, fx, x1)\n",
    "plt.figure()\n",
    "plt.plot(x, fx)\n",
    "plt.scatter(x1, fx1)  \n",
    "plt.scatter(x1, )\n",
    "    \n",
    "#     j = 0\n",
    "#     for i in range(len(x1)): \n",
    "#         if x1[i]>=x[j] and x1[i]<=x[j+1]:\n",
    "#             fx1[i] = ((fx[j+1] - fx[j])/(x[j+1]-x[j]))*(x1[i] - x[j]) + fx[j]\n",
    "#             if j== len(x)-1:\n",
    "#                 break\n",
    "\n",
    "#         elif x1[i] > max(x):\n",
    "#             fx1[i] = ((fx[len(x)-1] - fx[len(x)-2])/(x[len(x)-1]-x[len(x)-2]))*(x1[i] - x[len(x)-1]) + fx[len(x)-1]\n",
    "#         else:\n",
    "#             j= j+1\n",
    "#     return fx1\n",
    "\n"
   ]
  },
  {
   "cell_type": "code",
   "execution_count": 1,
   "metadata": {},
   "outputs": [],
   "source": [
    "##### Neville's (polynomial) interpolation ##########\n",
    "n=10\n",
    "#yadayaya\n",
    "    "
   ]
  },
  {
   "cell_type": "code",
   "execution_count": null,
   "metadata": {},
   "outputs": [],
   "source": []
  }
 ],
 "metadata": {
  "kernelspec": {
   "display_name": "Python 3",
   "language": "python",
   "name": "python3"
  },
  "language_info": {
   "codemirror_mode": {
    "name": "ipython",
    "version": 3
   },
   "file_extension": ".py",
   "mimetype": "text/x-python",
   "name": "python",
   "nbconvert_exporter": "python",
   "pygments_lexer": "ipython3",
   "version": "3.7.2"
  }
 },
 "nbformat": 4,
 "nbformat_minor": 2
}
